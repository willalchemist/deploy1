{
 "cells": [
  {
   "cell_type": "code",
   "execution_count": null,
   "id": "1ebc09ae-1861-4657-9697-2fa1482dd0a5",
   "metadata": {},
   "outputs": [],
   "source": [
    "To_Do_List = []\n",
    "while True:\n",
    "    menu = (\"\"\"1.Add new tasks\n",
    "2.Remove task\n",
    "3.Clear task list\"\"\")\n",
    "    \n",
    "    if To_Do_List == [] :\n",
    "        print(\"Task list is empty\")\n",
    "        print(menu)\n",
    "    else:\n",
    "        for index, item in enumerate(To_Do_List, start=1):\n",
    "            print(f'{index}.{item}')\n",
    "        print(menu)\n",
    "        \n",
    "    option = input(\"Enter command / input 'exit' to leave Task App:\").lower()\n",
    "    \n",
    "    if option == \"1\":\n",
    "        while True:\n",
    "            X = input(\"Add new task(input the command {/stop} to exit to menu)\")\n",
    "            if X.lower() == '/stop':\n",
    "                break\n",
    "                for index, item in enumerate(To_Do_List, start=1):\n",
    "                    print(f'{index}.{item}')\n",
    "            To_Do_List.append(X)\n",
    "    elif option == \"exit\":\n",
    "        break\n",
    "        print(\"\"\"Exiting app...\n",
    "Exited\"\"\")\n",
    "    elif option == \"2\":\n",
    "        for index, item in enumerate(To_Do_List, start=1):\n",
    "             print(f'{index}.{item}')\n",
    "        X=int(input(\"#Enter index of task you want to delete(/first task is index 1):\"))\n",
    "        if X-1 < len(To_Do_List[-1]) or X-1 == len(To_Do_List[-1]):\n",
    "            Y=(input(f\"\"\"Are you sure you want to remove task {X}?\n",
    "Enter (Yes/No)\"\"\")).strip().lower()\n",
    "            if Y == 'yes':\n",
    "                To_Do_List.remove(To_Do_List[X-1])\n",
    "                print(f'task{X} has been successfully deleted')\n",
    "            elif Y == 'no':\n",
    "                print(\"OKay! exiting to menu\")\n",
    "            else:\n",
    "                print(\"Invalid input\")\n",
    "        else:\n",
    "            print(\"inputted task does not exist\")\n",
    "    elif option == \"3\":\n",
    "        C=(input(\"Are you sure you want to clear task list? This action cannot be undone (Yes/No) \")).strip().lower()\n",
    "        if C == \"yes\":\n",
    "            To_Do_List.clear()\n",
    "        elif C == \"no\":\n",
    "            print(\"Okay! exiting to menu\")\n",
    "        else:\n",
    "            print(\"Enter a  valid input\")\n",
    "    else:\n",
    "        print(\"Enter valid command\")"
   ]
  }
 ],
 "metadata": {
  "kernelspec": {
   "display_name": "Python [conda env:base] *",
   "language": "python",
   "name": "conda-base-py"
  },
  "language_info": {
   "codemirror_mode": {
    "name": "ipython",
    "version": 3
   },
   "file_extension": ".py",
   "mimetype": "text/x-python",
   "name": "python",
   "nbconvert_exporter": "python",
   "pygments_lexer": "ipython3",
   "version": "3.12.7"
  }
 },
 "nbformat": 4,
 "nbformat_minor": 5
}
